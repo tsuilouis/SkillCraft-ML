{
 "cells": [
  {
   "cell_type": "code",
   "execution_count": 1,
   "metadata": {},
   "outputs": [
    {
     "name": "stdout",
     "output_type": "stream",
     "text": [
      "numpy version: 1.13.3\n",
      "tensorflow version: 1.4.0\n",
      "pandas version: 0.19.2\n"
     ]
    }
   ],
   "source": [
    "from __future__ import absolute_import\n",
    "from __future__ import division\n",
    "from __future__ import print_function\n",
    "from __future__ import unicode_literals\n",
    "\n",
    "import tensorflow as tf\n",
    "import numpy as np\n",
    "import matplotlib.pyplot as plt\n",
    "import pandas as pd\n",
    "\n",
    "%matplotlib inline\n",
    "\n",
    "print(\"numpy version:\", np.__version__)\n",
    "print(\"tensorflow version:\", tf.__version__)\n",
    "print(\"pandas version:\", pd.__version__)"
   ]
  },
  {
   "cell_type": "markdown",
   "metadata": {},
   "source": [
    "See original notebook SkillCraft_Experiment1_Rank_with_GM for details."
   ]
  },
  {
   "cell_type": "code",
   "execution_count": 2,
   "metadata": {},
   "outputs": [],
   "source": [
    "skillcraft = pd.read_csv('SkillCraft1_Dataset.csv')\n",
    "sc = skillcraft.query('LeagueIndex == 1 | LeagueIndex == 8')"
   ]
  },
  {
   "cell_type": "code",
   "execution_count": 3,
   "metadata": {},
   "outputs": [],
   "source": [
    "data = sc.iloc[:, 5:]\n",
    "data = data.values\n",
    "\n",
    "target = sc.iloc[:, 1]\n",
    "target = target.values\n",
    "\n",
    "# reassign labels for two-class\n",
    "posClass = 1\n",
    "negClass = 8\n",
    "dataIndx = (target==posClass) + (target==negClass)\n",
    "data = data[dataIndx]\n",
    "target = target[dataIndx]\n",
    "target[target==posClass] = 1\n",
    "target[target==negClass] = 0\n",
    "\n",
    "#np.random.seed(45689)\n",
    "rnd_idx = np.arange(np.shape(data)[0])\n",
    "np.random.shuffle(rnd_idx)\n",
    "\n",
    "# trBatch = int(np.ceil(0.8*len(rnd_idx)))\n",
    "# validBatch = int(np.ceil(0.1*len(rnd_idx)))\n",
    "#trBatch = int(np.ceil(0.7*len(rnd_idx)))\n",
    "trBatch = 200\n",
    "\n",
    "trainData, testData = (data[rnd_idx[0:trBatch],:],\n",
    "                       data[rnd_idx[trBatch:],:])\n",
    "\n",
    "trainTarget, testTarget = (target[rnd_idx[0:trBatch]],\n",
    "                           target[rnd_idx[trBatch:]])"
   ]
  },
  {
   "cell_type": "code",
   "execution_count": 4,
   "metadata": {
    "scrolled": false
   },
   "outputs": [
    {
     "name": "stdout",
     "output_type": "stream",
     "text": [
      "trainData shape: (200, 15)\n",
      "trainTarget shape: (200,)\n",
      "testData shape: (22, 15)\n",
      "testTarget shape: (22,)\n"
     ]
    }
   ],
   "source": [
    "print(\"trainData shape:\", trainData.shape)\n",
    "print(\"trainTarget shape:\", trainTarget.shape)\n",
    "print(\"testData shape:\", testData.shape)\n",
    "print(\"testTarget shape:\", testTarget.shape)"
   ]
  },
  {
   "cell_type": "code",
   "execution_count": 5,
   "metadata": {
    "scrolled": true
   },
   "outputs": [
    {
     "name": "stdout",
     "output_type": "stream",
     "text": [
      "float64\n",
      "int64\n",
      "[0 1]\n",
      "[0 1]\n",
      "[ 49 151]\n",
      "[ 6 16]\n"
     ]
    }
   ],
   "source": [
    "print(trainData.dtype)\n",
    "print(trainTarget.dtype)\n",
    "print(np.unique(trainTarget))\n",
    "print(np.unique(testTarget))\n",
    "print(np.bincount(trainTarget))\n",
    "print(np.bincount(testTarget))"
   ]
  },
  {
   "cell_type": "code",
   "execution_count": 6,
   "metadata": {},
   "outputs": [
    {
     "name": "stdout",
     "output_type": "stream",
     "text": [
      "new trainTarget shape: (200, 2)\n",
      "new testTarget shape: (22, 2)\n"
     ]
    }
   ],
   "source": [
    "# need to expand the targets (currently just a scalar) into a one-hot 10-D vector\n",
    "# code from https://stackoverflow.com/a/42874726/8346497\n",
    "classes = np.unique(trainTarget).shape[0]\n",
    "trainTarget = np.eye(classes)[trainTarget]\n",
    "testTarget = np.eye(classes)[testTarget]\n",
    "\n",
    "print(\"new trainTarget shape:\", trainTarget.shape)\n",
    "print(\"new testTarget shape:\", testTarget.shape)"
   ]
  },
  {
   "cell_type": "code",
   "execution_count": 7,
   "metadata": {},
   "outputs": [],
   "source": [
    "def build_layer(incoming, num_hidden_units):\n",
    "    \"\"\"\n",
    "    incoming: the input tensor containing the hidden activations from previous layer\n",
    "    num_hidden_units: the number of hidden units for this layer\n",
    "    \n",
    "    takes the hidden activations from the previous layer and then returns the weighted sum of\n",
    "    the inputs for the current hidden layer (before passing through activation)\n",
    "        \n",
    "    also return the weights W_layer for regularization\n",
    "    \"\"\"\n",
    "    # Xavier initialization\n",
    "    num_input_units = incoming.get_shape().as_list()[1]\n",
    "    variance = 3. / (num_input_units + num_hidden_units)\n",
    "    \n",
    "    W_layer = tf.Variable(tf.truncated_normal(shape=[num_input_units, num_hidden_units], stddev=tf.sqrt(variance)))\n",
    "    b_layer = tf.Variable(tf.constant(0.0, shape=[num_hidden_units]))\n",
    "    \n",
    "    # the output of this hidden layer\n",
    "    layer = tf.matmul(incoming, W_layer) + b_layer\n",
    "    return layer, W_layer"
   ]
  },
  {
   "cell_type": "code",
   "execution_count": 8,
   "metadata": {},
   "outputs": [],
   "source": [
    "def cross_validation(data, target, i, cv_index):\n",
    "    \"\"\"\n",
    "    data:\n",
    "    target:\n",
    "    \n",
    "    Returns two datasets (composed of data and labels) partitioned into size (i-1)*N/i and N/i.\n",
    "    The split is made along cv_index (should be greater than 1)\n",
    "    Precondition: i >= 3, 1 <= cv_index <= i-1\n",
    "    \"\"\"\n",
    "    data_cv = np.split(data, i)\n",
    "    target_cv = np.split(target, i)\n",
    "    \n",
    "    trainData = np.concatenate(data_cv[0:cv_index] + data_cv[cv_index+1:], axis=0)\n",
    "    trainTarget = np.concatenate(target_cv[0:cv_index] + target_cv[cv_index+1:], axis=0)\n",
    "    \n",
    "    validData = data_cv[cv_index]\n",
    "    validTarget = target_cv[cv_index]\n",
    "    \n",
    "    return trainData, trainTarget, validData, validTarget"
   ]
  },
  {
   "cell_type": "markdown",
   "metadata": {},
   "source": [
    "## Experiment 1: Fully connected neural network\n"
   ]
  },
  {
   "cell_type": "code",
   "execution_count": 9,
   "metadata": {},
   "outputs": [],
   "source": [
    "X = tf.placeholder(tf.float32, shape=[None, trainData.shape[1]])\n",
    "y_target = tf.placeholder(tf.float32, shape=[None, trainTarget.shape[1]])\n",
    "\n",
    "# input to hidden layer\n",
    "hidden_layer_in, W_layer1 = build_layer(X, 1000)\n",
    "keep_prob = tf.placeholder(tf.float32) # control dropout to activate during training only\n",
    "hidden_layer_out = tf.nn.dropout(tf.nn.relu(hidden_layer_in), keep_prob)\n",
    "\n",
    "# hidden layer to output\n",
    "y_predicted, W_layer2 = build_layer(hidden_layer_out, trainTarget.shape[1])\n",
    "\n",
    "# perform a softmax on the output layer\n",
    "cross_entropy = tf.reduce_mean(tf.nn.softmax_cross_entropy_with_logits(labels=y_target, logits=y_predicted))\n",
    "\n",
    "# add L2 norm penalty for every weight in the network\n",
    "penalty = 3e-4\n",
    "regularizers = tf.nn.l2_loss(W_layer1) + tf.nn.l2_loss(W_layer2)\n",
    "cross_entropy += penalty * regularizers"
   ]
  },
  {
   "cell_type": "code",
   "execution_count": 10,
   "metadata": {},
   "outputs": [],
   "source": [
    "global_step = tf.Variable(0, trainable=False)\n",
    "eta_0 = 1e-3\n",
    "eta = tf.train.exponential_decay(eta_0, global_step, 5000, 0.9, staircase=True)\n",
    "\n",
    "optimizer = tf.train.AdamOptimizer(learning_rate=eta)\n",
    "train = optimizer.minimize(cross_entropy, global_step=global_step)\n",
    "y_class_predicted = tf.argmax(y_predicted, 1)\n",
    "y_class_target = tf.argmax(y_target, 1)\n",
    "errors = tf.reduce_sum(tf.cast(tf.not_equal(y_class_predicted, y_class_target), tf.float32))"
   ]
  },
  {
   "cell_type": "code",
   "execution_count": 12,
   "metadata": {},
   "outputs": [
    {
     "name": "stdout",
     "output_type": "stream",
     "text": [
      "Iter:   20, xentropy-train: 0.588065, xentropy-valid: 0.659097, Train errs: 73, Valid errs: 13\n",
      "Iter:   40, xentropy-train: 0.647128, xentropy-valid: 0.706201, Train errs: 77, Valid errs: 11\n",
      "Iter:   60, xentropy-train: 0.502091, xentropy-valid: 0.585729, Train errs: 74, Valid errs: 11\n",
      "Iter:   80, xentropy-train: 0.436280, xentropy-valid: 0.511302, Train errs: 75, Valid errs: 12\n",
      "Iter:  100, xentropy-train: 0.416297, xentropy-valid: 0.495060, Train errs: 74, Valid errs: 14\n",
      "Iter:  120, xentropy-train: 0.409897, xentropy-valid: 0.309346, Train errs: 79, Valid errs: 7\n",
      "Iter:  140, xentropy-train: 0.400987, xentropy-valid: 0.327469, Train errs: 80, Valid errs: 8\n",
      "Iter:  160, xentropy-train: 0.390975, xentropy-valid: 0.324555, Train errs: 79, Valid errs: 7\n",
      "Iter:  180, xentropy-train: 0.386520, xentropy-valid: 0.330346, Train errs: 77, Valid errs: 7\n",
      "Iter:  200, xentropy-train: 0.380562, xentropy-valid: 0.337402, Train errs: 76, Valid errs: 7\n",
      "Iter:  220, xentropy-train: 0.374075, xentropy-valid: 0.398039, Train errs: 74, Valid errs: 11\n",
      "Iter:  240, xentropy-train: 0.371605, xentropy-valid: 0.395621, Train errs: 72, Valid errs: 11\n",
      "Iter:  260, xentropy-train: 0.365210, xentropy-valid: 0.408534, Train errs: 72, Valid errs: 11\n",
      "Iter:  280, xentropy-train: 0.365071, xentropy-valid: 0.416429, Train errs: 71, Valid errs: 11\n",
      "Iter:  300, xentropy-train: 0.362844, xentropy-valid: 0.408101, Train errs: 74, Valid errs: 11\n",
      "Iter:  320, xentropy-train: 0.363852, xentropy-valid: 0.392742, Train errs: 76, Valid errs: 9\n",
      "Iter:  340, xentropy-train: 0.360272, xentropy-valid: 0.389325, Train errs: 74, Valid errs: 8\n",
      "Iter:  360, xentropy-train: 0.359768, xentropy-valid: 0.406837, Train errs: 75, Valid errs: 10\n",
      "Iter:  380, xentropy-train: 0.356232, xentropy-valid: 0.415731, Train errs: 73, Valid errs: 8\n",
      "Iter:  400, xentropy-train: 0.353401, xentropy-valid: 0.404163, Train errs: 73, Valid errs: 8\n",
      "Iter:  420, xentropy-train: 0.360056, xentropy-valid: 0.359456, Train errs: 70, Valid errs: 10\n",
      "Iter:  440, xentropy-train: 0.353837, xentropy-valid: 0.364307, Train errs: 70, Valid errs: 10\n",
      "Iter:  460, xentropy-train: 0.352756, xentropy-valid: 0.376355, Train errs: 71, Valid errs: 10\n",
      "Iter:  480, xentropy-train: 0.351619, xentropy-valid: 0.376123, Train errs: 70, Valid errs: 10\n",
      "Iter:  500, xentropy-train: 0.346613, xentropy-valid: 0.393540, Train errs: 70, Valid errs: 10\n",
      "Iter:  520, xentropy-train: 0.343039, xentropy-valid: 0.418852, Train errs: 67, Valid errs: 11\n",
      "Iter:  540, xentropy-train: 0.339918, xentropy-valid: 0.437282, Train errs: 70, Valid errs: 11\n",
      "Iter:  560, xentropy-train: 0.338902, xentropy-valid: 0.458706, Train errs: 69, Valid errs: 11\n",
      "Iter:  580, xentropy-train: 0.338423, xentropy-valid: 0.475306, Train errs: 68, Valid errs: 11\n",
      "Iter:  600, xentropy-train: 0.333272, xentropy-valid: 0.482099, Train errs: 67, Valid errs: 11\n",
      "Iter:  620, xentropy-train: 0.351036, xentropy-valid: 0.349676, Train errs: 69, Valid errs: 11\n",
      "Iter:  640, xentropy-train: 0.340890, xentropy-valid: 0.405429, Train errs: 66, Valid errs: 12\n",
      "Iter:  660, xentropy-train: 0.337450, xentropy-valid: 0.380738, Train errs: 67, Valid errs: 11\n",
      "Iter:  680, xentropy-train: 0.334810, xentropy-valid: 0.402433, Train errs: 67, Valid errs: 11\n",
      "Iter:  700, xentropy-train: 0.333732, xentropy-valid: 0.424183, Train errs: 66, Valid errs: 12\n",
      "Iter:  720, xentropy-train: 0.340819, xentropy-valid: 0.376001, Train errs: 69, Valid errs: 9\n",
      "Iter:  740, xentropy-train: 0.336337, xentropy-valid: 0.375491, Train errs: 70, Valid errs: 9\n",
      "Iter:  760, xentropy-train: 0.335658, xentropy-valid: 0.392644, Train errs: 68, Valid errs: 9\n",
      "Iter:  780, xentropy-train: 0.338328, xentropy-valid: 0.395468, Train errs: 67, Valid errs: 9\n",
      "Iter:  800, xentropy-train: 0.331797, xentropy-valid: 0.382724, Train errs: 68, Valid errs: 9\n",
      "Iter:  820, xentropy-train: 0.328364, xentropy-valid: 0.470449, Train errs: 66, Valid errs: 9\n",
      "Iter:  840, xentropy-train: 0.327452, xentropy-valid: 0.534247, Train errs: 66, Valid errs: 9\n",
      "Iter:  860, xentropy-train: 0.323865, xentropy-valid: 0.580041, Train errs: 69, Valid errs: 9\n",
      "Iter:  880, xentropy-train: 0.321175, xentropy-valid: 0.601082, Train errs: 66, Valid errs: 9\n",
      "Iter:  900, xentropy-train: 0.317295, xentropy-valid: 0.612975, Train errs: 65, Valid errs: 10\n"
     ]
    }
   ],
   "source": [
    "batch_size=256\n",
    "\n",
    "train_errors = []\n",
    "valid_errors = []\n",
    "train_xentropy_losses = []\n",
    "valid_xentropy_losses = []\n",
    "\n",
    "with tf.Session() as sess:\n",
    "    sess.run(tf.global_variables_initializer())\n",
    "    i=0\n",
    "    \n",
    "    split = 10\n",
    "    \n",
    "    for partition in range(0, split):\n",
    "        trainDataCV, trainTargetCV, validData, validTarget = cross_validation(trainData, trainTarget, split, partition)\n",
    "        \n",
    "        for step in range(1, 101):\n",
    "            if i >= trainData.shape[0]:\n",
    "                i -= trainData.shape[0]\n",
    "                train_error, train_loss = sess.run([errors, cross_entropy],\n",
    "                                                    feed_dict={X: trainDataCV.take(indices, axis=0, mode='wrap'),\n",
    "                                                               y_target: trainTargetCV.take(indices, axis=0, mode='wrap'),\n",
    "                                                               keep_prob: 1.0})\n",
    "                valid_error, valid_loss = sess.run([errors, cross_entropy],\n",
    "                                                    feed_dict={X: validData, y_target: validTarget,\n",
    "                                                               keep_prob: 1.0})\n",
    "                train_xentropy_losses.append(train_loss)\n",
    "                train_errors.append(train_error)\n",
    "                valid_xentropy_losses.append(valid_loss)\n",
    "                valid_errors.append(valid_error)\n",
    "\n",
    "            indices = range(i, i+batch_size)\n",
    "            _, loss = sess.run([train, cross_entropy], feed_dict={X: trainDataCV.take(indices, axis=0, mode='wrap'),\n",
    "                                                                  y_target: trainTargetCV.take(indices, axis=0, mode='wrap'),\n",
    "                                                                  keep_prob: 0.5})\n",
    "            i += batch_size\n",
    "\n",
    "            if (step % 20 == 0):\n",
    "                train_error, train_loss = sess.run([errors, cross_entropy],\n",
    "                                                    feed_dict={X: trainDataCV.take(indices, axis=0, mode='wrap'),\n",
    "                                                               y_target: trainTargetCV.take(indices, axis=0, mode='wrap'),\n",
    "                                                               keep_prob: 1.0})\n",
    "                valid_error, valid_loss = sess.run([errors, cross_entropy],\n",
    "                                                    feed_dict={X: validData, y_target: validTarget,\n",
    "                                                               keep_prob: 1.0})\n",
    "                print(\"Iter: %4d, xentropy-train: %4.6f, xentropy-valid: %4.6f, Train errs: %d, Valid errs: %d\"%\n",
    "                      (partition*100+step, train_loss, valid_loss, train_error, valid_error))"
   ]
  },
  {
   "cell_type": "code",
   "execution_count": 13,
   "metadata": {},
   "outputs": [
    {
     "data": {
      "text/plain": [
       "<matplotlib.legend.Legend at 0x7f70459aaa50>"
      ]
     },
     "execution_count": 13,
     "metadata": {},
     "output_type": "execute_result"
    },
    {
     "data": {
      "image/png": "[encoded data removed]",
      "text/plain": [
       "<matplotlib.figure.Figure at 0x7f70b008ced0>"
      ]
     },
     "metadata": {},
     "output_type": "display_data"
    }
   ],
   "source": [
    "# plot training curve for classification error vs number of epochs\n",
    "plt.plot(train_errors, 'b-', label='training')\n",
    "plt.plot(valid_errors, 'r-', label='validation')\n",
    "plt.title('Classification Errors vs Epochs')\n",
    "plt.xlabel('Epochs')\n",
    "plt.ylabel('Errors')\n",
    "plt.legend()"
   ]
  },
  {
   "cell_type": "code",
   "execution_count": 15,
   "metadata": {},
   "outputs": [
    {
     "data": {
      "text/plain": [
       "<matplotlib.legend.Legend at 0x7f7045876f90>"
      ]
     },
     "execution_count": 15,
     "metadata": {},
     "output_type": "execute_result"
    },
    {
     "data": {
      "image/png": "[encoded data removed]",
      "text/plain": [
       "<matplotlib.figure.Figure at 0x7f7045909890>"
      ]
     },
     "metadata": {},
     "output_type": "display_data"
    }
   ],
   "source": [
    "# plot training and validation for cross-entropy loss vs number of epochs\n",
    "plt.plot(train_xentropy_losses, 'b-', label='training')\n",
    "plt.plot(valid_xentropy_losses, 'r-', label='validation')\n",
    "plt.title('Cross-entropy Loss vs Epochs')\n",
    "plt.xlabel('Epochs')\n",
    "plt.ylabel('Loss')\n",
    "plt.legend()"
   ]
  },
  {
   "cell_type": "markdown",
   "metadata": {},
   "source": [
    "One layer, 500 units, $\\eta=0.001$, $\\lambda=0.0003$, dropout rate $p=0.5$\n",
    "\n",
    "### Result on test set"
   ]
  },
  {
   "cell_type": "code",
   "execution_count": 9,
   "metadata": {},
   "outputs": [],
   "source": [
    "X = tf.placeholder(tf.float32, shape=[None, trainData.shape[1]])\n",
    "y_target = tf.placeholder(tf.float32, shape=[None, trainTarget.shape[1]])\n",
    "\n",
    "# input to hidden layer\n",
    "hidden_layer_in, W_layer1 = build_layer(X, 500)\n",
    "keep_prob = tf.placeholder(tf.float32) # control dropout to activate during training only\n",
    "hidden_layer_out = tf.nn.dropout(tf.nn.relu(hidden_layer_in), keep_prob)\n",
    "\n",
    "# hidden layer to output\n",
    "y_predicted, W_layer2 = build_layer(hidden_layer_out, trainTarget.shape[1])\n",
    "\n",
    "# perform a softmax on the output layer\n",
    "cross_entropy = tf.reduce_mean(tf.nn.softmax_cross_entropy_with_logits(labels=y_target, logits=y_predicted))\n",
    "\n",
    "# add L2 norm penalty for every weight in the network\n",
    "penalty = 3e-4\n",
    "regularizers = tf.nn.l2_loss(W_layer1) + tf.nn.l2_loss(W_layer2)\n",
    "cross_entropy += penalty * regularizers"
   ]
  },
  {
   "cell_type": "code",
   "execution_count": 10,
   "metadata": {},
   "outputs": [],
   "source": [
    "global_step = tf.Variable(0, trainable=False)\n",
    "eta_0 = 1e-3\n",
    "eta = tf.train.exponential_decay(eta_0, global_step, 5000, 0.9, staircase=True)\n",
    "\n",
    "optimizer = tf.train.AdamOptimizer(learning_rate=eta)\n",
    "train = optimizer.minimize(cross_entropy, global_step=global_step)\n",
    "y_class_predicted = tf.argmax(y_predicted, 1)\n",
    "y_class_target = tf.argmax(y_target, 1)\n",
    "errors = tf.reduce_sum(tf.cast(tf.not_equal(y_class_predicted, y_class_target), tf.float32))\n",
    "accuracy = tf.reduce_mean(tf.cast(tf.equal(y_class_predicted, y_class_target), tf.float32))"
   ]
  },
  {
   "cell_type": "code",
   "execution_count": 11,
   "metadata": {
    "scrolled": false
   },
   "outputs": [
    {
     "name": "stdout",
     "output_type": "stream",
     "text": [
      "Iter:   20, x-train: 0.11553, x-valid: 0.00467, x-test: 0.00468, Train errs: 3, Valid errs: 0, Test errs: 0\n",
      "Iter:   40, x-train: 0.16674, x-valid: 0.00387, x-test: 0.00387, Train errs: 2, Valid errs: 0, Test errs: 0\n",
      "Iter:   60, x-train: 0.10552, x-valid: 0.00336, x-test: 0.00336, Train errs: 2, Valid errs: 0, Test errs: 0\n",
      "Iter:   80, x-train: 0.04366, x-valid: 0.00305, x-test: 0.00304, Train errs: 1, Valid errs: 0, Test errs: 0\n",
      "Iter:  100, x-train: 0.03997, x-valid: 0.00286, x-test: 0.00285, Train errs: 1, Valid errs: 0, Test errs: 0\n",
      "Iter:  120, x-train: 0.05558, x-valid: 0.00273, x-test: 0.00273, Train errs: 1, Valid errs: 0, Test errs: 0\n",
      "Iter:  140, x-train: 0.09944, x-valid: 0.00265, x-test: 0.00265, Train errs: 2, Valid errs: 0, Test errs: 0\n",
      "Iter:  160, x-train: 0.08239, x-valid: 0.00261, x-test: 0.00261, Train errs: 2, Valid errs: 0, Test errs: 0\n",
      "Iter:  180, x-train: 0.03697, x-valid: 0.00258, x-test: 0.00258, Train errs: 1, Valid errs: 0, Test errs: 0\n",
      "Iter:  200, x-train: 0.04478, x-valid: 0.00256, x-test: 0.00256, Train errs: 1, Valid errs: 0, Test errs: 0\n",
      "Iter:  220, x-train: 0.06949, x-valid: 0.00256, x-test: 0.00255, Train errs: 2, Valid errs: 0, Test errs: 0\n",
      "Iter:  240, x-train: 0.03540, x-valid: 0.00258, x-test: 0.00255, Train errs: 2, Valid errs: 0, Test errs: 0\n",
      "Iter:  260, x-train: 0.01444, x-valid: 0.00259, x-test: 0.00255, Train errs: 1, Valid errs: 0, Test errs: 0\n",
      "Iter:  280, x-train: 0.01178, x-valid: 0.00262, x-test: 0.00255, Train errs: 1, Valid errs: 0, Test errs: 0\n",
      "Iter:  300, x-train: 0.02022, x-valid: 0.00255, x-test: 0.00254, Train errs: 1, Valid errs: 0, Test errs: 0\n",
      "Iter:  320, x-train: 0.05532, x-valid: 0.00255, x-test: 0.00255, Train errs: 2, Valid errs: 0, Test errs: 0\n",
      "Iter:  340, x-train: 0.02074, x-valid: 0.00255, x-test: 0.00255, Train errs: 2, Valid errs: 0, Test errs: 0\n",
      "Iter:  360, x-train: 0.01253, x-valid: 0.00256, x-test: 0.00256, Train errs: 1, Valid errs: 0, Test errs: 0\n",
      "Iter:  380, x-train: 0.03501, x-valid: 0.00256, x-test: 0.00256, Train errs: 1, Valid errs: 0, Test errs: 0\n",
      "Iter:  400, x-train: 0.00440, x-valid: 0.00257, x-test: 0.00257, Train errs: 0, Valid errs: 0, Test errs: 0\n",
      "Iter:  420, x-train: 0.08895, x-valid: 0.00257, x-test: 0.00257, Train errs: 2, Valid errs: 0, Test errs: 0\n",
      "Iter:  440, x-train: 0.00692, x-valid: 0.00258, x-test: 0.00258, Train errs: 1, Valid errs: 0, Test errs: 0\n",
      "Iter:  460, x-train: 0.01581, x-valid: 0.00258, x-test: 0.00258, Train errs: 1, Valid errs: 0, Test errs: 0\n",
      "Iter:  480, x-train: 0.00314, x-valid: 0.00259, x-test: 0.00259, Train errs: 0, Valid errs: 0, Test errs: 0\n",
      "Iter:  500, x-train: 0.02285, x-valid: 0.00260, x-test: 0.00260, Train errs: 2, Valid errs: 0, Test errs: 0\n",
      "Iter:  520, x-train: 0.00260, x-valid: 0.58642, x-test: 0.00260, Train errs: 0, Valid errs: 1, Test errs: 0\n",
      "Iter:  540, x-train: 0.00260, x-valid: 0.74628, x-test: 0.00260, Train errs: 0, Valid errs: 1, Test errs: 0\n",
      "Iter:  560, x-train: 0.00259, x-valid: 0.84443, x-test: 0.00259, Train errs: 0, Valid errs: 1, Test errs: 0\n",
      "Iter:  580, x-train: 0.00259, x-valid: 0.92137, x-test: 0.00259, Train errs: 0, Valid errs: 1, Test errs: 0\n",
      "Iter:  600, x-train: 0.00258, x-valid: 0.93691, x-test: 0.00258, Train errs: 0, Valid errs: 1, Test errs: 0\n",
      "Iter:  620, x-train: 0.00432, x-valid: 0.00259, x-test: 0.00259, Train errs: 0, Valid errs: 0, Test errs: 0\n",
      "Iter:  640, x-train: 0.00275, x-valid: 0.00260, x-test: 0.00260, Train errs: 0, Valid errs: 0, Test errs: 0\n",
      "Iter:  660, x-train: 0.00347, x-valid: 0.00261, x-test: 0.00261, Train errs: 0, Valid errs: 0, Test errs: 0\n",
      "Iter:  680, x-train: 0.00472, x-valid: 0.00262, x-test: 0.00262, Train errs: 0, Valid errs: 0, Test errs: 0\n",
      "Iter:  700, x-train: 0.01818, x-valid: 0.00263, x-test: 0.00263, Train errs: 2, Valid errs: 0, Test errs: 0\n",
      "Iter:  720, x-train: 0.00274, x-valid: 0.00264, x-test: 0.00264, Train errs: 0, Valid errs: 0, Test errs: 0\n",
      "Iter:  740, x-train: 0.00267, x-valid: 0.00265, x-test: 0.00265, Train errs: 0, Valid errs: 0, Test errs: 0\n",
      "Iter:  760, x-train: 0.00280, x-valid: 0.00266, x-test: 0.00266, Train errs: 0, Valid errs: 0, Test errs: 0\n",
      "Iter:  780, x-train: 0.01288, x-valid: 0.00266, x-test: 0.00266, Train errs: 2, Valid errs: 0, Test errs: 0\n",
      "Iter:  800, x-train: 0.00281, x-valid: 0.00267, x-test: 0.00267, Train errs: 0, Valid errs: 0, Test errs: 0\n",
      "Iter:  820, x-train: 0.00272, x-valid: 0.00267, x-test: 0.00267, Train errs: 0, Valid errs: 0, Test errs: 0\n",
      "Iter:  840, x-train: 0.00270, x-valid: 0.00268, x-test: 0.00268, Train errs: 0, Valid errs: 0, Test errs: 0\n",
      "Iter:  860, x-train: 0.00270, x-valid: 0.00269, x-test: 0.00269, Train errs: 0, Valid errs: 0, Test errs: 0\n",
      "Iter:  880, x-train: 0.01521, x-valid: 0.00269, x-test: 0.00269, Train errs: 2, Valid errs: 0, Test errs: 0\n",
      "Iter:  900, x-train: 0.00301, x-valid: 0.00270, x-test: 0.00270, Train errs: 0, Valid errs: 0, Test errs: 0\n",
      "Iter:  920, x-train: 0.00312, x-valid: 0.00271, x-test: 0.00271, Train errs: 0, Valid errs: 0, Test errs: 0\n",
      "Iter:  940, x-train: 0.00273, x-valid: 0.00271, x-test: 0.00271, Train errs: 0, Valid errs: 0, Test errs: 0\n",
      "Iter:  960, x-train: 0.00272, x-valid: 0.00271, x-test: 0.00271, Train errs: 0, Valid errs: 0, Test errs: 0\n",
      "Iter:  980, x-train: 0.00308, x-valid: 0.00272, x-test: 0.00272, Train errs: 0, Valid errs: 0, Test errs: 0\n",
      "Iter: 1000, x-train: 0.00334, x-valid: 0.00273, x-test: 0.00273, Train errs: 0, Valid errs: 0, Test errs: 0\n"
     ]
    }
   ],
   "source": [
    "batch_size=256\n",
    "\n",
    "train_accuracies = []\n",
    "valid_accuracies = []\n",
    "test_accuracies = []\n",
    "train_errors = []\n",
    "valid_errors = []\n",
    "test_errors = []\n",
    "train_xentropy_losses = []\n",
    "valid_xentropy_losses = []\n",
    "test_xentropy_losses = []\n",
    "\n",
    "with tf.Session() as sess:\n",
    "    sess.run(tf.global_variables_initializer())\n",
    "    i=0\n",
    "    \n",
    "    split = 10\n",
    "    \n",
    "    for partition in range(0, split):\n",
    "        trainDataCV, trainTargetCV, validData, validTarget = cross_validation(trainData, trainTarget, split, partition)\n",
    "        \n",
    "        for step in range(1, 101):\n",
    "            if i >= trainData.shape[0]:\n",
    "                i -= trainData.shape[0]\n",
    "                train_acc, train_error, train_loss = sess.run([accuracy, errors, cross_entropy],\n",
    "                                                               feed_dict={X: trainDataCV.take(indices, axis=0, mode='wrap'),\n",
    "                                                                          y_target: trainTargetCV.take(indices, axis=0, mode='wrap'),\n",
    "                                                                          keep_prob: 1.0})\n",
    "                valid_acc, valid_error, valid_loss = sess.run([accuracy, errors, cross_entropy],\n",
    "                                                               feed_dict={X: validData, y_target: validTarget,\n",
    "                                                                          keep_prob: 1.0})\n",
    "                test_acc, test_error, test_loss = sess.run([accuracy, errors, cross_entropy],\n",
    "                                                            feed_dict={X: testData, y_target: testTarget,\n",
    "                                                                       keep_prob: 1.0})\n",
    "                train_xentropy_losses.append(train_loss)\n",
    "                train_accuracies.append(train_acc)\n",
    "                train_errors.append(train_error)\n",
    "                \n",
    "                valid_xentropy_losses.append(valid_loss)\n",
    "                valid_accuracies.append(valid_acc)\n",
    "                valid_errors.append(valid_error)\n",
    "                \n",
    "                test_xentropy_losses.append(test_loss)\n",
    "                test_accuracies.append(test_acc)\n",
    "                test_errors.append(test_error)\n",
    "\n",
    "            indices = range(i, i+batch_size)\n",
    "            _, loss = sess.run([train, cross_entropy], feed_dict={X: trainDataCV.take(indices, axis=0, mode='wrap'),\n",
    "                                                                  y_target: trainTargetCV.take(indices, axis=0, mode='wrap'),\n",
    "                                                                  keep_prob: 0.5})\n",
    "            i += batch_size\n",
    "\n",
    "            if (step % 20 == 0):\n",
    "                train_error, train_loss = sess.run([errors, cross_entropy],\n",
    "                                                    feed_dict={X: trainDataCV.take(indices, axis=0, mode='wrap'),\n",
    "                                                               y_target: trainTargetCV.take(indices, axis=0, mode='wrap'),\n",
    "                                                               keep_prob: 1.0})\n",
    "                valid_error, valid_loss = sess.run([errors, cross_entropy],\n",
    "                                                    feed_dict={X: validData, y_target: validTarget,\n",
    "                                                               keep_prob: 1.0})\n",
    "                test_error, test_loss = sess.run([errors, cross_entropy],\n",
    "                                                  feed_dict={X: testData, y_target: testTarget,\n",
    "                                                             keep_prob: 1.0})\n",
    "                print(\"Iter: %4d, x-train: %4.5f, x-valid: %4.5f, x-test: %4.5f, Train errs: %d, Valid errs: %d, Test errs: %d\"%\n",
    "                      (partition*100+step, train_loss, valid_loss, test_loss, train_error, valid_error, test_error))"
   ]
  },
  {
   "cell_type": "code",
   "execution_count": 12,
   "metadata": {
    "scrolled": true
   },
   "outputs": [
    {
     "data": {
      "text/plain": [
       "<matplotlib.legend.Legend at 0x7f8adc0a1590>"
      ]
     },
     "execution_count": 12,
     "metadata": {},
     "output_type": "execute_result"
    },
    {
     "data": {
      "image/png": "[encoded data removed]",
      "text/plain": [
       "<matplotlib.figure.Figure at 0x7f8b37826990>"
      ]
     },
     "metadata": {},
     "output_type": "display_data"
    }
   ],
   "source": [
    "# plot training curve for classification accuracy vs number of epochs\n",
    "plt.plot(train_accuracies, 'b-', label='training')\n",
    "plt.plot(valid_accuracies, 'r-', label='validation')\n",
    "plt.plot(test_accuracies, 'g-', label='test')\n",
    "plt.title('Classification Accuracy vs Epochs')\n",
    "plt.xlabel('Epochs')\n",
    "plt.ylabel('Accuracy (%)')\n",
    "plt.legend()"
   ]
  },
  {
   "cell_type": "code",
   "execution_count": 13,
   "metadata": {
    "scrolled": false
   },
   "outputs": [
    {
     "data": {
      "text/plain": [
       "<matplotlib.legend.Legend at 0x7f8adc0b2f10>"
      ]
     },
     "execution_count": 13,
     "metadata": {},
     "output_type": "execute_result"
    },
    {
     "data": {
      "image/png": "[encoded data removed]",
      "text/plain": [
       "<matplotlib.figure.Figure at 0x7f8bb0490c90>"
      ]
     },
     "metadata": {},
     "output_type": "display_data"
    }
   ],
   "source": [
    "# plot training curve for classification error vs number of epochs\n",
    "plt.plot(train_errors, 'b-', label='training')\n",
    "plt.plot(valid_errors, 'r-', label='validation')\n",
    "plt.plot(test_errors, 'g-', label='test')\n",
    "plt.title('Classification Errors vs Epochs')\n",
    "plt.xlabel('Epochs')\n",
    "plt.ylabel('Errors')\n",
    "plt.legend()"
   ]
  },
  {
   "cell_type": "code",
   "execution_count": 14,
   "metadata": {},
   "outputs": [
    {
     "data": {
      "text/plain": [
       "<matplotlib.legend.Legend at 0x7f8ad0020610>"
      ]
     },
     "execution_count": 14,
     "metadata": {},
     "output_type": "execute_result"
    },
    {
     "data": {
      "image/png": "[encoded data removed]",
      "text/plain": [
       "<matplotlib.figure.Figure at 0x7f8adc0142d0>"
      ]
     },
     "metadata": {},
     "output_type": "display_data"
    }
   ],
   "source": [
    "# plot training and validation for cross-entropy loss vs number of epochs\n",
    "plt.plot(train_xentropy_losses, 'b-', label='training')\n",
    "plt.plot(valid_xentropy_losses, 'r-', label='validation')\n",
    "plt.plot(test_xentropy_losses, 'g-', label='test')\n",
    "plt.title('Cross-entropy Loss vs Epochs')\n",
    "plt.xlabel('Epochs')\n",
    "plt.ylabel('Loss')\n",
    "plt.legend()"
   ]
  },
  {
   "cell_type": "code",
   "execution_count": null,
   "metadata": {},
   "outputs": [],
   "source": []
  },
  {
   "cell_type": "code",
   "execution_count": null,
   "metadata": {},
   "outputs": [],
   "source": []
  }
 ],
 "metadata": {
  "kernelspec": {
   "display_name": "Python 2",
   "language": "python",
   "name": "python2"
  },
  "language_info": {
   "codemirror_mode": {
    "name": "ipython",
    "version": 2
   },
   "file_extension": ".py",
   "mimetype": "text/x-python",
   "name": "python",
   "nbconvert_exporter": "python",
   "pygments_lexer": "ipython2",
   "version": "2.7.13"
  }
 },
 "nbformat": 4,
 "nbformat_minor": 2
}

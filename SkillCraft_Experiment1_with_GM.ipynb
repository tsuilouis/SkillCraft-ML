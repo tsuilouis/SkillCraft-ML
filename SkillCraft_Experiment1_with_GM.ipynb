{
 "cells": [
  {
   "cell_type": "code",
   "execution_count": 1,
   "metadata": {},
   "outputs": [
    {
     "name": "stdout",
     "output_type": "stream",
     "text": [
      "numpy version: 1.13.3\n",
      "tensorflow version: 1.4.0\n",
      "pandas version: 0.19.2\n"
     ]
    }
   ],
   "source": [
    "from __future__ import absolute_import\n",
    "from __future__ import division\n",
    "from __future__ import print_function\n",
    "from __future__ import unicode_literals\n",
    "\n",
    "import tensorflow as tf\n",
    "import numpy as np\n",
    "import matplotlib.pyplot as plt\n",
    "import pandas as pd\n",
    "\n",
    "%matplotlib inline\n",
    "\n",
    "print(\"numpy version:\", np.__version__)\n",
    "print(\"tensorflow version:\", tf.__version__)\n",
    "print(\"pandas version:\", pd.__version__)"
   ]
  },
  {
   "cell_type": "markdown",
   "metadata": {},
   "source": [
    "## Parsing the SkillCraft dataset from CSV\n",
    "\n",
    "The first step is to get the data into a form Python can manipulate. Might be worth converting the data and saving it in .npz format as a one-time operation.\n",
    "\n",
    "There are 20 attributes in the dataset but the authors really only use fields 6-20. Hence it didn't matter that some rows exist with '?' in one or more attributes which need to be filtered out at least for some learning. Might be interesting to predict their values.\n",
    "\n",
    "Looking more closely at the data, there exist 3395 records (vs 3305+55 used in paper). This discrepancy is because 35 'Grandmaster' games were dropped and 55 'Professional' games were added. 57 of these records contain at least one missing attribute. These are rows 360, 1843, 3342-3396. However, these attributes \"Age\", \"TotalHours\", \"HoursPerWeek\" were not used in the study."
   ]
  },
  {
   "cell_type": "code",
   "execution_count": 2,
   "metadata": {
    "scrolled": false
   },
   "outputs": [],
   "source": [
    "# with open('SkillCraft1_Dataset.csv', 'rb') as skillcraft:\n",
    "#     # default delimiter=',' and quotechar='\"'\n",
    "#     reader = csv.DictReader(skillcraft)\n",
    "#     for row in reader:\n",
    "#         print(row)"
   ]
  },
  {
   "cell_type": "code",
   "execution_count": 3,
   "metadata": {
    "scrolled": true
   },
   "outputs": [
    {
     "name": "stdout",
     "output_type": "stream",
     "text": [
      "<class 'pandas.core.frame.DataFrame'>\n"
     ]
    }
   ],
   "source": [
    "skillcraft = pd.read_csv('SkillCraft1_Dataset.csv')\n",
    "print(type(skillcraft))"
   ]
  },
  {
   "cell_type": "code",
   "execution_count": 4,
   "metadata": {},
   "outputs": [
    {
     "name": "stdout",
     "output_type": "stream",
     "text": [
      "[5 4 3 2 1 7 6 8]\n"
     ]
    }
   ],
   "source": [
    "print(pd.unique(skillcraft['LeagueIndex']))\n",
    "# skillcraft.query('LeagueIndex != 7')"
   ]
  },
  {
   "cell_type": "markdown",
   "metadata": {},
   "source": [
    "Currently keeping Grandmaster games even though paper discarded them."
   ]
  },
  {
   "cell_type": "code",
   "execution_count": 5,
   "metadata": {
    "scrolled": false
   },
   "outputs": [
    {
     "name": "stdout",
     "output_type": "stream",
     "text": [
      "<class 'pandas.core.frame.DataFrame'>\n",
      "(3395, 15)\n",
      "APM                     375.866400\n",
      "SelectByHotkeys           0.036436\n",
      "AssignToHotkeys           0.000594\n",
      "UniqueHotkeys             5.000000\n",
      "MinimapAttacks            0.000204\n",
      "MinimapRightClicks        0.000780\n",
      "NumberOfPACs              0.004346\n",
      "GapBetweenPACs           11.691000\n",
      "ActionLatency            34.854700\n",
      "ActionsInPAC              7.961500\n",
      "TotalMapExplored         15.000000\n",
      "WorkersMade               0.000613\n",
      "UniqueUnitsMade           6.000000\n",
      "ComplexUnitsMade          0.000000\n",
      "ComplexAbilitiesUsed      0.000631\n",
      "Name: 3393, dtype: float64\n"
     ]
    }
   ],
   "source": [
    "data = skillcraft.iloc[:, 5:]\n",
    "print(type(data))\n",
    "print(data.shape)\n",
    "print(data.iloc[3393])"
   ]
  },
  {
   "cell_type": "markdown",
   "metadata": {},
   "source": [
    "The leagues should be the labels/targets."
   ]
  },
  {
   "cell_type": "code",
   "execution_count": 6,
   "metadata": {},
   "outputs": [
    {
     "name": "stdout",
     "output_type": "stream",
     "text": [
      "<class 'pandas.core.series.Series'>\n",
      "(3395,)\n"
     ]
    }
   ],
   "source": [
    "target = skillcraft.iloc[:, 1]\n",
    "print(type(target))\n",
    "print(target.shape)"
   ]
  },
  {
   "cell_type": "code",
   "execution_count": 7,
   "metadata": {},
   "outputs": [
    {
     "name": "stdout",
     "output_type": "stream",
     "text": [
      "<type 'numpy.ndarray'>\n",
      "(3395, 15)\n"
     ]
    }
   ],
   "source": [
    "data = data.values\n",
    "print(type(data))\n",
    "print(data.shape)"
   ]
  },
  {
   "cell_type": "code",
   "execution_count": 8,
   "metadata": {},
   "outputs": [
    {
     "name": "stdout",
     "output_type": "stream",
     "text": [
      "<type 'numpy.ndarray'>\n",
      "(3395,)\n"
     ]
    }
   ],
   "source": [
    "target = target.values\n",
    "print(type(target))\n",
    "print(target.shape)"
   ]
  },
  {
   "cell_type": "code",
   "execution_count": 9,
   "metadata": {},
   "outputs": [],
   "source": [
    "np.random.seed(45689)\n",
    "rnd_idx = np.arange(np.shape(data)[0])\n",
    "np.random.shuffle(rnd_idx)\n",
    "\n",
    "trBatch = int(np.ceil(0.8*len(rnd_idx)))\n",
    "validBatch = int(np.ceil(0.1*len(rnd_idx)))\n",
    "\n",
    "trainData, validData, testData = (data[rnd_idx[0:trBatch],:],\n",
    "                                  data[rnd_idx[trBatch:trBatch + validBatch],:],\n",
    "                                  data[rnd_idx[trBatch + validBatch:],:])\n",
    "\n",
    "trainTarget, validTarget, testTarget = (target[rnd_idx[0:trBatch]],\n",
    "                                        target[rnd_idx[trBatch:trBatch + validBatch]],\n",
    "                                        target[rnd_idx[trBatch + validBatch:]])"
   ]
  },
  {
   "cell_type": "code",
   "execution_count": 10,
   "metadata": {},
   "outputs": [],
   "source": [
    "# np.random.seed(45689)\n",
    "# rnd_idx = np.arange(np.shape(data)[0])\n",
    "# np.random.shuffle(rnd_idx)\n",
    "\n",
    "# # trBatch = int(np.ceil(0.8*len(rnd_idx)))\n",
    "# # validBatch = int(np.ceil(0.1*len(rnd_idx)))\n",
    "# trBatch = 3050\n",
    "\n",
    "# trainData, testData = (data[rnd_idx[0:trBatch],:],\n",
    "#                        data[rnd_idx[trBatch:],:])\n",
    "\n",
    "# trainTarget, testTarget = (target[rnd_idx[0:trBatch]],\n",
    "#                            target[rnd_idx[trBatch:]])"
   ]
  },
  {
   "cell_type": "code",
   "execution_count": 11,
   "metadata": {
    "scrolled": true
   },
   "outputs": [
    {
     "name": "stdout",
     "output_type": "stream",
     "text": [
      "trainData shape: (2716, 15)\n",
      "trainTarget shape: (2716,)\n",
      "validData shape: (340, 15)\n",
      "validTarget shape: (340,)\n",
      "testData shape: (339, 15)\n",
      "testTarget shape: (339,)\n"
     ]
    }
   ],
   "source": [
    "print(\"trainData shape:\", trainData.shape)\n",
    "print(\"trainTarget shape:\", trainTarget.shape)\n",
    "print(\"validData shape:\", validData.shape)\n",
    "print(\"validTarget shape:\", validTarget.shape)\n",
    "print(\"testData shape:\", testData.shape)\n",
    "print(\"testTarget shape:\", testTarget.shape)"
   ]
  },
  {
   "cell_type": "markdown",
   "metadata": {},
   "source": [
    "Checking the label distributions."
   ]
  },
  {
   "cell_type": "code",
   "execution_count": 12,
   "metadata": {},
   "outputs": [
    {
     "name": "stdout",
     "output_type": "stream",
     "text": [
      "float64\n",
      "int64\n",
      "[0 1 2 3 4 5 6 7]\n",
      "[0 1 2 3 4 5 6 7]\n",
      "[0 1 2 3 4 5 6 7]\n",
      "[130 280 449 639 654 494  28  42]\n",
      "[20 33 56 85 72 66  4  4]\n",
      "[17 34 48 87 80 61  3  9]\n"
     ]
    }
   ],
   "source": [
    "print(trainData.dtype)\n",
    "print(trainTarget.dtype)\n",
    "\n",
    "# decrementing each ordinal value by one in order to one-hot encode each record\n",
    "trainTarget = trainTarget-1\n",
    "validTarget = validTarget-1\n",
    "testTarget = testTarget-1\n",
    "\n",
    "print(np.unique(trainTarget))\n",
    "print(np.unique(validTarget))\n",
    "print(np.unique(testTarget))\n",
    "print(np.bincount(trainTarget))\n",
    "print(np.bincount(validTarget))\n",
    "print(np.bincount(testTarget))"
   ]
  },
  {
   "cell_type": "code",
   "execution_count": 13,
   "metadata": {},
   "outputs": [
    {
     "name": "stdout",
     "output_type": "stream",
     "text": [
      "new trainTarget shape: (2716, 8)\n",
      "new validTarget shape: (340, 8)\n",
      "new testTarget shape: (339, 8)\n"
     ]
    }
   ],
   "source": [
    "# need to expand the targets (currently just a scalar) into a one-hot 10-D vector\n",
    "# code from https://stackoverflow.com/a/42874726/8346497\n",
    "classes = np.unique(trainTarget).shape[0]\n",
    "trainTarget = np.eye(classes)[trainTarget]\n",
    "validTarget = np.eye(classes)[validTarget]\n",
    "testTarget = np.eye(classes)[testTarget]\n",
    "\n",
    "print(\"new trainTarget shape:\", trainTarget.shape)\n",
    "print(\"new validTarget shape:\", validTarget.shape)\n",
    "print(\"new testTarget shape:\", testTarget.shape)"
   ]
  },
  {
   "cell_type": "markdown",
   "metadata": {},
   "source": [
    "## Experiment 1: Predict Rank/League of Player\n",
    "\n",
    "This is a classification task, so let's use logistic regression (but the paper says there are \"assumptions about the structure of the relationship between the predictive variables and the response\") and neural nets.\n",
    "\n",
    "Using only attributes 6-20, just like the paper.\n",
    "\n",
    "Let's see how well the neural net can do for 8-way classification."
   ]
  },
  {
   "cell_type": "code",
   "execution_count": 14,
   "metadata": {},
   "outputs": [],
   "source": [
    "def build_layer(incoming, num_hidden_units):\n",
    "    \"\"\"\n",
    "    incoming: the input tensor containing the hidden activations from previous layer\n",
    "    num_hidden_units: the number of hidden units for this layer\n",
    "    \n",
    "    takes the hidden activations from the previous layer and then returns the weighted sum of\n",
    "    the inputs for the current hidden layer (before passing through activation)\n",
    "        \n",
    "    also return the weights W_layer for regularization\n",
    "    \"\"\"\n",
    "    # Xavier initialization\n",
    "    num_input_units = incoming.get_shape().as_list()[1]\n",
    "    variance = 3. / (num_input_units + num_hidden_units)\n",
    "    \n",
    "    W_layer = tf.Variable(tf.truncated_normal(shape=[num_input_units, num_hidden_units], stddev=tf.sqrt(variance)))\n",
    "    b_layer = tf.Variable(tf.constant(0.0, shape=[num_hidden_units]))\n",
    "    \n",
    "    # the output of this hidden layer\n",
    "    layer = tf.matmul(incoming, W_layer) + b_layer\n",
    "    return layer, W_layer"
   ]
  },
  {
   "cell_type": "code",
   "execution_count": 15,
   "metadata": {},
   "outputs": [],
   "source": [
    "X = tf.placeholder(tf.float32, shape=[None, trainData.shape[1]])\n",
    "y_target = tf.placeholder(tf.float32, shape=[None, trainTarget.shape[1]])\n",
    "\n",
    "# input to hidden layer\n",
    "hidden_layer_in, W_layer1 = build_layer(X, 1000)\n",
    "keep_prob = tf.placeholder(tf.float32)\n",
    "hidden_layer_out = tf.nn.dropout(tf.nn.relu(hidden_layer_in), keep_prob)\n",
    "\n",
    "# hidden layer to output\n",
    "y_predicted, W_layer2 = build_layer(hidden_layer_out, trainTarget.shape[1])\n",
    "\n",
    "# perform a softmax on the output layer\n",
    "cross_entropy = tf.reduce_mean(tf.nn.softmax_cross_entropy_with_logits(labels=y_target, logits=y_predicted))\n",
    "\n",
    "# add L2 norm penalty for every weight in the network\n",
    "penalty = 0.0\n",
    "regularizers = tf.nn.l2_loss(W_layer1) + tf.nn.l2_loss(W_layer2)\n",
    "cross_entropy += penalty * regularizers"
   ]
  },
  {
   "cell_type": "code",
   "execution_count": 16,
   "metadata": {},
   "outputs": [],
   "source": [
    "global_step = tf.Variable(0, trainable=False)\n",
    "eta_0 = 1e-3\n",
    "eta = tf.train.exponential_decay(eta_0, global_step, 5000, 0.9, staircase=True)\n",
    "\n",
    "optimizer = tf.train.AdamOptimizer(learning_rate=eta)\n",
    "train = optimizer.minimize(cross_entropy, global_step=global_step)\n",
    "y_class_predicted = tf.argmax(y_predicted, 1)\n",
    "y_class_target = tf.argmax(y_target, 1)\n",
    "errors = tf.reduce_sum(tf.cast(tf.not_equal(y_class_predicted, y_class_target), tf.float32))"
   ]
  },
  {
   "cell_type": "code",
   "execution_count": 21,
   "metadata": {},
   "outputs": [
    {
     "name": "stdout",
     "output_type": "stream",
     "text": [
      "Iter:  500, x-train: 1.32027, x-valid: 1.42703, x-test: 1.45055, Train errs: 155, Valid errs: 208, Test errs: 231\n",
      "Iter: 1000, x-train: 1.29012, x-valid: 1.43210, x-test: 1.45084, Train errs: 148, Valid errs: 207, Test errs: 226\n",
      "Iter: 1500, x-train: 1.34690, x-valid: 1.42805, x-test: 1.45869, Train errs: 143, Valid errs: 207, Test errs: 222\n",
      "Iter: 2000, x-train: 1.28637, x-valid: 1.43538, x-test: 1.45414, Train errs: 137, Valid errs: 209, Test errs: 218\n",
      "Iter: 2500, x-train: 1.32621, x-valid: 1.44217, x-test: 1.46736, Train errs: 150, Valid errs: 202, Test errs: 217\n",
      "Iter: 3000, x-train: 1.27256, x-valid: 1.45167, x-test: 1.45505, Train errs: 136, Valid errs: 209, Test errs: 220\n",
      "Iter: 3500, x-train: 1.33108, x-valid: 1.44833, x-test: 1.46529, Train errs: 148, Valid errs: 207, Test errs: 221\n",
      "Iter: 4000, x-train: 1.36389, x-valid: 1.46189, x-test: 1.46125, Train errs: 157, Valid errs: 204, Test errs: 222\n",
      "Iter: 4500, x-train: 1.25807, x-valid: 1.47034, x-test: 1.45952, Train errs: 149, Valid errs: 211, Test errs: 226\n",
      "Iter: 5000, x-train: 1.31431, x-valid: 1.46915, x-test: 1.48652, Train errs: 139, Valid errs: 207, Test errs: 218\n",
      "Iter: 5500, x-train: 1.32134, x-valid: 1.48058, x-test: 1.46797, Train errs: 137, Valid errs: 209, Test errs: 219\n",
      "Iter: 6000, x-train: 1.25605, x-valid: 1.49290, x-test: 1.47686, Train errs: 139, Valid errs: 208, Test errs: 222\n",
      "Iter: 6500, x-train: 1.26302, x-valid: 1.49953, x-test: 1.47931, Train errs: 140, Valid errs: 202, Test errs: 222\n",
      "Iter: 7000, x-train: 1.19264, x-valid: 1.50989, x-test: 1.47664, Train errs: 127, Valid errs: 213, Test errs: 216\n",
      "Iter: 7500, x-train: 1.28542, x-valid: 1.49944, x-test: 1.48252, Train errs: 153, Valid errs: 207, Test errs: 224\n",
      "Iter: 8000, x-train: 1.30347, x-valid: 1.52536, x-test: 1.49748, Train errs: 148, Valid errs: 217, Test errs: 227\n",
      "Iter: 8500, x-train: 1.24239, x-valid: 1.53359, x-test: 1.49594, Train errs: 137, Valid errs: 209, Test errs: 221\n",
      "Iter: 9000, x-train: 1.26858, x-valid: 1.55081, x-test: 1.50436, Train errs: 134, Valid errs: 213, Test errs: 219\n",
      "Iter: 9500, x-train: 1.25279, x-valid: 1.54548, x-test: 1.51459, Train errs: 133, Valid errs: 213, Test errs: 227\n",
      "Iter: 10000, x-train: 1.22147, x-valid: 1.54789, x-test: 1.51407, Train errs: 135, Valid errs: 211, Test errs: 222\n"
     ]
    }
   ],
   "source": [
    "batch_size=256\n",
    "\n",
    "train_errors = []\n",
    "valid_errors = []\n",
    "test_errors = []\n",
    "train_xentropy_losses = []\n",
    "valid_xentropy_losses = []\n",
    "test_xentropy_losses = []\n",
    "\n",
    "with tf.Session() as sess:\n",
    "    sess.run(tf.global_variables_initializer())\n",
    "    i=0\n",
    "\n",
    "    for step in range(1, 10001):\n",
    "        if i >= trainData.shape[0]:\n",
    "            i -= trainData.shape[0]\n",
    "            train_error, train_loss = sess.run([errors, cross_entropy],\n",
    "                                                feed_dict={X: trainData.take(indices, axis=0, mode='wrap'),\n",
    "                                                           y_target: trainTarget.take(indices, axis=0, mode='wrap'),\n",
    "                                                           keep_prob: 1.0})\n",
    "            valid_error, valid_loss = sess.run([errors, cross_entropy],\n",
    "                                                feed_dict={X: validData, y_target: validTarget,\n",
    "                                                           keep_prob: 1.0})\n",
    "            test_error, test_loss = sess.run([errors, cross_entropy],\n",
    "                                              feed_dict={X: testData, y_target: testTarget,\n",
    "                                                         keep_prob: 1.0})\n",
    "            train_xentropy_losses.append(train_loss)\n",
    "            train_errors.append(train_error)\n",
    "            valid_xentropy_losses.append(valid_loss)\n",
    "            valid_errors.append(valid_error)\n",
    "            test_xentropy_losses.append(test_loss)\n",
    "            test_errors.append(test_error)\n",
    "\n",
    "        indices = range(i, i+batch_size)\n",
    "        _, loss = sess.run([train, cross_entropy], feed_dict={X: trainData.take(indices, axis=0, mode='wrap'),\n",
    "                                                              y_target: trainTarget.take(indices, axis=0, mode='wrap'),\n",
    "                                                              keep_prob: 0.5})\n",
    "        i += batch_size\n",
    "\n",
    "        if (step % 500 == 0):\n",
    "            train_error, train_loss = sess.run([errors, cross_entropy],\n",
    "                                                feed_dict={X: trainData.take(indices, axis=0, mode='wrap'),\n",
    "                                                           y_target: trainTarget.take(indices, axis=0, mode='wrap'),\n",
    "                                                           keep_prob: 1.0})\n",
    "            valid_error, valid_loss = sess.run([errors, cross_entropy],\n",
    "                                                feed_dict={X: validData, y_target: validTarget,\n",
    "                                                           keep_prob: 1.0})\n",
    "            test_error, test_loss = sess.run([errors, cross_entropy],\n",
    "                                              feed_dict={X: testData, y_target: testTarget,\n",
    "                                                         keep_prob: 1.0})\n",
    "            print(\"Iter: %4d, x-train: %4.5f, x-valid: %4.5f, x-test: %4.5f, Train errs: %d, Valid errs: %d, Test errs: %d\"%\n",
    "                  (step, train_loss, valid_loss, test_loss, train_error, valid_error, test_error))"
   ]
  },
  {
   "cell_type": "code",
   "execution_count": 22,
   "metadata": {
    "scrolled": true
   },
   "outputs": [
    {
     "data": {
      "text/plain": [
       "<matplotlib.legend.Legend at 0x7f155a192f10>"
      ]
     },
     "execution_count": 22,
     "metadata": {},
     "output_type": "execute_result"
    },
    {
     "data": {
      "image/png": "[encoded data removed]",
      "text/plain": [
       "<matplotlib.figure.Figure at 0x7f1560050fd0>"
      ]
     },
     "metadata": {},
     "output_type": "display_data"
    }
   ],
   "source": [
    "# plot training curve for classification error vs number of epochs\n",
    "plt.plot(train_errors, 'b-', label='training')\n",
    "plt.plot(valid_errors, 'r-', label='validation')\n",
    "plt.plot(test_errors, 'g-', label='test')\n",
    "plt.title('Classification Errors vs Epochs')\n",
    "plt.xlabel('Epochs')\n",
    "plt.ylabel('Errors')\n",
    "plt.legend()"
   ]
  },
  {
   "cell_type": "code",
   "execution_count": 23,
   "metadata": {
    "scrolled": true
   },
   "outputs": [
    {
     "data": {
      "text/plain": [
       "<matplotlib.legend.Legend at 0x7f15580ad410>"
      ]
     },
     "execution_count": 23,
     "metadata": {},
     "output_type": "execute_result"
    },
    {
     "data": {
      "image/png": "[encoded data removed]",
      "text/plain": [
       "<matplotlib.figure.Figure at 0x7f157efeaf10>"
      ]
     },
     "metadata": {},
     "output_type": "display_data"
    }
   ],
   "source": [
    "# plot training and validation for cross-entropy loss vs number of epochs\n",
    "plt.plot(train_xentropy_losses, 'b-', label='training')\n",
    "plt.plot(valid_xentropy_losses, 'r-', label='validation')\n",
    "plt.plot(test_xentropy_losses, 'g-', label='test')\n",
    "plt.title('Cross-entropy Loss vs Epochs')\n",
    "plt.xlabel('Epochs')\n",
    "plt.ylabel('Loss')\n",
    "plt.legend()"
   ]
  },
  {
   "cell_type": "markdown",
   "metadata": {},
   "source": [
    "## Additional Experiment Ideas\n",
    "\n",
    "Visualize the data after dimensionality reduction?\n",
    "\n",
    "Try reproduce results of paper with conditional inference forests (pandas can convert to R objects and then use cforest function in R)? Or look into Tensorflow implementations of random forests..."
   ]
  },
  {
   "cell_type": "code",
   "execution_count": null,
   "metadata": {},
   "outputs": [],
   "source": []
  }
 ],
 "metadata": {
  "kernelspec": {
   "display_name": "Python 2",
   "language": "python",
   "name": "python2"
  },
  "language_info": {
   "codemirror_mode": {
    "name": "ipython",
    "version": 2
   },
   "file_extension": ".py",
   "mimetype": "text/x-python",
   "name": "python",
   "nbconvert_exporter": "python",
   "pygments_lexer": "ipython2",
   "version": "2.7.13"
  }
 },
 "nbformat": 4,
 "nbformat_minor": 2
}
